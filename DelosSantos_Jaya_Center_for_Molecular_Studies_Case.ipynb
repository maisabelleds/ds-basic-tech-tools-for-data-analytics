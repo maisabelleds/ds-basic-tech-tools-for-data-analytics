{
  "nbformat": 4,
  "nbformat_minor": 0,
  "metadata": {
    "colab": {
      "name": "DelosSantos-Jaya-Center-for-Molecular-Studies-Case.ipynb",
      "provenance": [],
      "authorship_tag": "ABX9TyMHZ3u9UH5bETZzgeR4FPiI",
      "include_colab_link": true
    },
    "kernelspec": {
      "name": "python3",
      "display_name": "Python 3"
    },
    "language_info": {
      "name": "python"
    }
  },
  "cells": [
    {
      "cell_type": "markdown",
      "metadata": {
        "id": "view-in-github",
        "colab_type": "text"
      },
      "source": [
        "<a href=\"https://colab.research.google.com/github/maisabelleds/ds-basic-tech-tools-for-data-analytics/blob/main/DelosSantos_Jaya_Center_for_Molecular_Studies_Case.ipynb\" target=\"_parent\"><img src=\"https://colab.research.google.com/assets/colab-badge.svg\" alt=\"Open In Colab\"/></a>"
      ]
    },
    {
      "cell_type": "markdown",
      "metadata": {
        "id": "UDV4GwWRWB-z"
      },
      "source": [
        "# ***Case Study: Jaya Center for Molecular Studies***\n",
        "### **The Case**\n",
        "Your client, Jaya Center for Molecular Studies has contracted your company for a diabetes prediction project. As proof of concept, they want your team to develop a program that could predict diabetes using the SciKitLearn Diabetes dataset.\n",
        "### **The Problem**\n",
        "Your head engineer suddenly got injured and could not code. Accomplish the following tasks without her."
      ]
    },
    {
      "cell_type": "markdown",
      "metadata": {
        "id": "jwkJoCJ2qBGp"
      },
      "source": [
        "### ***Accomplished by Delos Santos***"
      ]
    },
    {
      "cell_type": "markdown",
      "metadata": {
        "id": "8xtjjRfcf3qL"
      },
      "source": [
        "# **Loading the Diabetes dataset via SciKit-Learn**"
      ]
    },
    {
      "cell_type": "markdown",
      "metadata": {
        "id": "msDWeoKUWtM4"
      },
      "source": [
        "## *Import library*"
      ]
    },
    {
      "cell_type": "code",
      "metadata": {
        "id": "2Usg3kB_WwHM"
      },
      "source": [
        "from sklearn import datasets"
      ],
      "execution_count": 1,
      "outputs": []
    },
    {
      "cell_type": "markdown",
      "metadata": {
        "id": "orPpM8GIXBqn"
      },
      "source": [
        "## *Load dataset*"
      ]
    },
    {
      "cell_type": "code",
      "metadata": {
        "id": "TZlbj850XEy1"
      },
      "source": [
        "diabetes=datasets.load_diabetes()"
      ],
      "execution_count": 2,
      "outputs": []
    },
    {
      "cell_type": "code",
      "metadata": {
        "colab": {
          "base_uri": "https://localhost:8080/"
        },
        "id": "LBiQKMRNXOlh",
        "outputId": "5a7db0d4-c245-4149-8491-739a43498203"
      },
      "source": [
        "diabetes"
      ],
      "execution_count": 3,
      "outputs": [
        {
          "output_type": "execute_result",
          "data": {
            "text/plain": [
              "{'DESCR': '.. _diabetes_dataset:\\n\\nDiabetes dataset\\n----------------\\n\\nTen baseline variables, age, sex, body mass index, average blood\\npressure, and six blood serum measurements were obtained for each of n =\\n442 diabetes patients, as well as the response of interest, a\\nquantitative measure of disease progression one year after baseline.\\n\\n**Data Set Characteristics:**\\n\\n  :Number of Instances: 442\\n\\n  :Number of Attributes: First 10 columns are numeric predictive values\\n\\n  :Target: Column 11 is a quantitative measure of disease progression one year after baseline\\n\\n  :Attribute Information:\\n      - Age\\n      - Sex\\n      - Body mass index\\n      - Average blood pressure\\n      - S1\\n      - S2\\n      - S3\\n      - S4\\n      - S5\\n      - S6\\n\\nNote: Each of these 10 feature variables have been mean centered and scaled by the standard deviation times `n_samples` (i.e. the sum of squares of each column totals 1).\\n\\nSource URL:\\nhttps://www4.stat.ncsu.edu/~boos/var.select/diabetes.html\\n\\nFor more information see:\\nBradley Efron, Trevor Hastie, Iain Johnstone and Robert Tibshirani (2004) \"Least Angle Regression,\" Annals of Statistics (with discussion), 407-499.\\n(https://web.stanford.edu/~hastie/Papers/LARS/LeastAngle_2002.pdf)',\n",
              " 'data': array([[ 0.03807591,  0.05068012,  0.06169621, ..., -0.00259226,\n",
              "          0.01990842, -0.01764613],\n",
              "        [-0.00188202, -0.04464164, -0.05147406, ..., -0.03949338,\n",
              "         -0.06832974, -0.09220405],\n",
              "        [ 0.08529891,  0.05068012,  0.04445121, ..., -0.00259226,\n",
              "          0.00286377, -0.02593034],\n",
              "        ...,\n",
              "        [ 0.04170844,  0.05068012, -0.01590626, ..., -0.01107952,\n",
              "         -0.04687948,  0.01549073],\n",
              "        [-0.04547248, -0.04464164,  0.03906215, ...,  0.02655962,\n",
              "          0.04452837, -0.02593034],\n",
              "        [-0.04547248, -0.04464164, -0.0730303 , ..., -0.03949338,\n",
              "         -0.00421986,  0.00306441]]),\n",
              " 'data_filename': '/usr/local/lib/python3.7/dist-packages/sklearn/datasets/data/diabetes_data.csv.gz',\n",
              " 'feature_names': ['age',\n",
              "  'sex',\n",
              "  'bmi',\n",
              "  'bp',\n",
              "  's1',\n",
              "  's2',\n",
              "  's3',\n",
              "  's4',\n",
              "  's5',\n",
              "  's6'],\n",
              " 'target': array([151.,  75., 141., 206., 135.,  97., 138.,  63., 110., 310., 101.,\n",
              "         69., 179., 185., 118., 171., 166., 144.,  97., 168.,  68.,  49.,\n",
              "         68., 245., 184., 202., 137.,  85., 131., 283., 129.,  59., 341.,\n",
              "         87.,  65., 102., 265., 276., 252.,  90., 100.,  55.,  61.,  92.,\n",
              "        259.,  53., 190., 142.,  75., 142., 155., 225.,  59., 104., 182.,\n",
              "        128.,  52.,  37., 170., 170.,  61., 144.,  52., 128.,  71., 163.,\n",
              "        150.,  97., 160., 178.,  48., 270., 202., 111.,  85.,  42., 170.,\n",
              "        200., 252., 113., 143.,  51.,  52., 210.,  65., 141.,  55., 134.,\n",
              "         42., 111.,  98., 164.,  48.,  96.,  90., 162., 150., 279.,  92.,\n",
              "         83., 128., 102., 302., 198.,  95.,  53., 134., 144., 232.,  81.,\n",
              "        104.,  59., 246., 297., 258., 229., 275., 281., 179., 200., 200.,\n",
              "        173., 180.,  84., 121., 161.,  99., 109., 115., 268., 274., 158.,\n",
              "        107.,  83., 103., 272.,  85., 280., 336., 281., 118., 317., 235.,\n",
              "         60., 174., 259., 178., 128.,  96., 126., 288.,  88., 292.,  71.,\n",
              "        197., 186.,  25.,  84.,  96., 195.,  53., 217., 172., 131., 214.,\n",
              "         59.,  70., 220., 268., 152.,  47.,  74., 295., 101., 151., 127.,\n",
              "        237., 225.,  81., 151., 107.,  64., 138., 185., 265., 101., 137.,\n",
              "        143., 141.,  79., 292., 178.,  91., 116.,  86., 122.,  72., 129.,\n",
              "        142.,  90., 158.,  39., 196., 222., 277.,  99., 196., 202., 155.,\n",
              "         77., 191.,  70.,  73.,  49.,  65., 263., 248., 296., 214., 185.,\n",
              "         78.,  93., 252., 150.,  77., 208.,  77., 108., 160.,  53., 220.,\n",
              "        154., 259.,  90., 246., 124.,  67.,  72., 257., 262., 275., 177.,\n",
              "         71.,  47., 187., 125.,  78.,  51., 258., 215., 303., 243.,  91.,\n",
              "        150., 310., 153., 346.,  63.,  89.,  50.,  39., 103., 308., 116.,\n",
              "        145.,  74.,  45., 115., 264.,  87., 202., 127., 182., 241.,  66.,\n",
              "         94., 283.,  64., 102., 200., 265.,  94., 230., 181., 156., 233.,\n",
              "         60., 219.,  80.,  68., 332., 248.,  84., 200.,  55.,  85.,  89.,\n",
              "         31., 129.,  83., 275.,  65., 198., 236., 253., 124.,  44., 172.,\n",
              "        114., 142., 109., 180., 144., 163., 147.,  97., 220., 190., 109.,\n",
              "        191., 122., 230., 242., 248., 249., 192., 131., 237.,  78., 135.,\n",
              "        244., 199., 270., 164.,  72.,  96., 306.,  91., 214.,  95., 216.,\n",
              "        263., 178., 113., 200., 139., 139.,  88., 148.,  88., 243.,  71.,\n",
              "         77., 109., 272.,  60.,  54., 221.,  90., 311., 281., 182., 321.,\n",
              "         58., 262., 206., 233., 242., 123., 167.,  63., 197.,  71., 168.,\n",
              "        140., 217., 121., 235., 245.,  40.,  52., 104., 132.,  88.,  69.,\n",
              "        219.,  72., 201., 110.,  51., 277.,  63., 118.,  69., 273., 258.,\n",
              "         43., 198., 242., 232., 175.,  93., 168., 275., 293., 281.,  72.,\n",
              "        140., 189., 181., 209., 136., 261., 113., 131., 174., 257.,  55.,\n",
              "         84.,  42., 146., 212., 233.,  91., 111., 152., 120.,  67., 310.,\n",
              "         94., 183.,  66., 173.,  72.,  49.,  64.,  48., 178., 104., 132.,\n",
              "        220.,  57.]),\n",
              " 'target_filename': '/usr/local/lib/python3.7/dist-packages/sklearn/datasets/data/diabetes_target.csv.gz'}"
            ]
          },
          "metadata": {
            "tags": []
          },
          "execution_count": 3
        }
      ]
    },
    {
      "cell_type": "markdown",
      "metadata": {
        "id": "kcI0QjOhXbHA"
      },
      "source": [
        "## *Description of Diabetes dataset*"
      ]
    },
    {
      "cell_type": "code",
      "metadata": {
        "colab": {
          "base_uri": "https://localhost:8080/"
        },
        "id": "gTrQsdsyXfHR",
        "outputId": "5894d851-0832-4d40-e76a-68a0842a17f3"
      },
      "source": [
        "print(diabetes.DESCR)"
      ],
      "execution_count": 4,
      "outputs": [
        {
          "output_type": "stream",
          "text": [
            ".. _diabetes_dataset:\n",
            "\n",
            "Diabetes dataset\n",
            "----------------\n",
            "\n",
            "Ten baseline variables, age, sex, body mass index, average blood\n",
            "pressure, and six blood serum measurements were obtained for each of n =\n",
            "442 diabetes patients, as well as the response of interest, a\n",
            "quantitative measure of disease progression one year after baseline.\n",
            "\n",
            "**Data Set Characteristics:**\n",
            "\n",
            "  :Number of Instances: 442\n",
            "\n",
            "  :Number of Attributes: First 10 columns are numeric predictive values\n",
            "\n",
            "  :Target: Column 11 is a quantitative measure of disease progression one year after baseline\n",
            "\n",
            "  :Attribute Information:\n",
            "      - Age\n",
            "      - Sex\n",
            "      - Body mass index\n",
            "      - Average blood pressure\n",
            "      - S1\n",
            "      - S2\n",
            "      - S3\n",
            "      - S4\n",
            "      - S5\n",
            "      - S6\n",
            "\n",
            "Note: Each of these 10 feature variables have been mean centered and scaled by the standard deviation times `n_samples` (i.e. the sum of squares of each column totals 1).\n",
            "\n",
            "Source URL:\n",
            "https://www4.stat.ncsu.edu/~boos/var.select/diabetes.html\n",
            "\n",
            "For more information see:\n",
            "Bradley Efron, Trevor Hastie, Iain Johnstone and Robert Tibshirani (2004) \"Least Angle Regression,\" Annals of Statistics (with discussion), 407-499.\n",
            "(https://web.stanford.edu/~hastie/Papers/LARS/LeastAngle_2002.pdf)\n"
          ],
          "name": "stdout"
        }
      ]
    },
    {
      "cell_type": "markdown",
      "metadata": {
        "id": "Qjcz8qO2Y2E3"
      },
      "source": [
        "## *Feature names*\n"
      ]
    },
    {
      "cell_type": "code",
      "metadata": {
        "colab": {
          "base_uri": "https://localhost:8080/"
        },
        "id": "_GZP-fZBY5WY",
        "outputId": "12d14691-1344-4431-c5c8-35177f96bef9"
      },
      "source": [
        "print(diabetes.feature_names)"
      ],
      "execution_count": 5,
      "outputs": [
        {
          "output_type": "stream",
          "text": [
            "['age', 'sex', 'bmi', 'bp', 's1', 's2', 's3', 's4', 's5', 's6']\n"
          ],
          "name": "stdout"
        }
      ]
    },
    {
      "cell_type": "markdown",
      "metadata": {
        "id": "O3RCKQbpZB61"
      },
      "source": [
        "## *Creating x and y data matrices*"
      ]
    },
    {
      "cell_type": "code",
      "metadata": {
        "id": "mikJGhf7ZEUa"
      },
      "source": [
        "x=diabetes.data\n",
        "y=diabetes.target"
      ],
      "execution_count": 6,
      "outputs": []
    },
    {
      "cell_type": "code",
      "metadata": {
        "colab": {
          "base_uri": "https://localhost:8080/"
        },
        "id": "p_fJ6G4PZM68",
        "outputId": "e90fa225-12fd-4de4-989d-46e0f59b5273"
      },
      "source": [
        "x.shape, y.shape"
      ],
      "execution_count": 7,
      "outputs": [
        {
          "output_type": "execute_result",
          "data": {
            "text/plain": [
              "((442, 10), (442,))"
            ]
          },
          "metadata": {
            "tags": []
          },
          "execution_count": 7
        }
      ]
    },
    {
      "cell_type": "markdown",
      "metadata": {
        "id": "mWesRNuzZhtt"
      },
      "source": [
        "# **Data split**"
      ]
    },
    {
      "cell_type": "markdown",
      "metadata": {
        "id": "7_20OiMNZj6r"
      },
      "source": [
        "## *Import library*"
      ]
    },
    {
      "cell_type": "code",
      "metadata": {
        "id": "Q7EpkAS8ZpBe"
      },
      "source": [
        "from sklearn.model_selection import train_test_split"
      ],
      "execution_count": 8,
      "outputs": []
    },
    {
      "cell_type": "markdown",
      "metadata": {
        "id": "lf2Y5A9xZxz0"
      },
      "source": [
        "## *80/20 data split*"
      ]
    },
    {
      "cell_type": "code",
      "metadata": {
        "id": "Q2BNuPwaZxgO"
      },
      "source": [
        "x_train, x_test, y_train, y_test = train_test_split(x,y,test_size=0.2)"
      ],
      "execution_count": 9,
      "outputs": []
    },
    {
      "cell_type": "markdown",
      "metadata": {
        "id": "n-kmVbiub1pG"
      },
      "source": [
        "## *Data dimension*"
      ]
    },
    {
      "cell_type": "code",
      "metadata": {
        "colab": {
          "base_uri": "https://localhost:8080/"
        },
        "id": "DUly2bwlb3sF",
        "outputId": "66a5537b-fe6a-47bc-b19e-a3c72fe2e31f"
      },
      "source": [
        "x_train.shape, y_train.shape"
      ],
      "execution_count": 10,
      "outputs": [
        {
          "output_type": "execute_result",
          "data": {
            "text/plain": [
              "((353, 10), (353,))"
            ]
          },
          "metadata": {
            "tags": []
          },
          "execution_count": 10
        }
      ]
    },
    {
      "cell_type": "code",
      "metadata": {
        "colab": {
          "base_uri": "https://localhost:8080/"
        },
        "id": "iXf44xsKcIDX",
        "outputId": "1d14ea1f-a136-4130-d0b6-5d6d592ef532"
      },
      "source": [
        "x_test.shape, y_test.shape"
      ],
      "execution_count": 11,
      "outputs": [
        {
          "output_type": "execute_result",
          "data": {
            "text/plain": [
              "((89, 10), (89,))"
            ]
          },
          "metadata": {
            "tags": []
          },
          "execution_count": 11
        }
      ]
    },
    {
      "cell_type": "markdown",
      "metadata": {
        "id": "L0ihOggCcQs6"
      },
      "source": [
        "# **Linear Regression Model**\n"
      ]
    },
    {
      "cell_type": "markdown",
      "metadata": {
        "id": "2I7m1AaKcbDe"
      },
      "source": [
        "## *Import library*"
      ]
    },
    {
      "cell_type": "code",
      "metadata": {
        "id": "gtjWjtb4dY73"
      },
      "source": [
        "from sklearn import linear_model\n",
        "from sklearn.metrics import mean_squared_error, r2_score"
      ],
      "execution_count": 12,
      "outputs": []
    },
    {
      "cell_type": "markdown",
      "metadata": {
        "id": "Y-J7D8kXdx-Y"
      },
      "source": [
        "## *Build linear regression*"
      ]
    },
    {
      "cell_type": "markdown",
      "metadata": {
        "id": "8PXpuobIeT0L"
      },
      "source": [
        "### Defining the linear regression"
      ]
    },
    {
      "cell_type": "code",
      "metadata": {
        "id": "Hsw9Mb0cd1hF"
      },
      "source": [
        "model=linear_model.LinearRegression()"
      ],
      "execution_count": 13,
      "outputs": []
    },
    {
      "cell_type": "markdown",
      "metadata": {
        "id": "E5Hhr-tleq11"
      },
      "source": [
        "### Building the training model"
      ]
    },
    {
      "cell_type": "code",
      "metadata": {
        "colab": {
          "base_uri": "https://localhost:8080/"
        },
        "id": "S9Aaeotgeu9d",
        "outputId": "b328227e-2df9-4e69-9ef5-17cd31a7dc1f"
      },
      "source": [
        "model.fit(x_train, y_train)"
      ],
      "execution_count": 14,
      "outputs": [
        {
          "output_type": "execute_result",
          "data": {
            "text/plain": [
              "LinearRegression(copy_X=True, fit_intercept=True, n_jobs=None, normalize=False)"
            ]
          },
          "metadata": {
            "tags": []
          },
          "execution_count": 14
        }
      ]
    },
    {
      "cell_type": "markdown",
      "metadata": {
        "id": "cnqu-RLYgj-L"
      },
      "source": [
        "### Applying trained model on test set to make prediction/s"
      ]
    },
    {
      "cell_type": "code",
      "metadata": {
        "id": "3Uz0_qqMgreq"
      },
      "source": [
        "y_pred=model.predict(x_test)"
      ],
      "execution_count": 15,
      "outputs": []
    },
    {
      "cell_type": "markdown",
      "metadata": {
        "id": "7gfiaIouhBkr"
      },
      "source": [
        "# **Prediction results**"
      ]
    },
    {
      "cell_type": "markdown",
      "metadata": {
        "id": "PrtZzOPAhFAL"
      },
      "source": [
        "## *Printing of model performance*\n"
      ]
    },
    {
      "cell_type": "code",
      "metadata": {
        "colab": {
          "base_uri": "https://localhost:8080/"
        },
        "id": "na5dxy_fhWOu",
        "outputId": "6be21a1b-737e-4a4d-f9b6-58a0cbafc17b"
      },
      "source": [
        "print('Coefficients:', model.coef_)\n",
        "print('Intercept:', model.intercept_)\n",
        "print('Mean squared error (MSE): %.2f' % mean_squared_error(y_test, y_pred))\n",
        "print ('Coefficient of determination (R^2): %.2f' % r2_score(y_test, y_pred))"
      ],
      "execution_count": 16,
      "outputs": [
        {
          "output_type": "stream",
          "text": [
            "Coefficients: [ -10.177071   -226.89428467  573.8166492   215.02106002 -738.28386971\n",
            "  426.91457284  180.38220833  260.58404492  698.81920462  105.32536754]\n",
            "Intercept: 152.59516665299728\n",
            "Mean squared error (MSE): 2988.02\n",
            "Coefficient of determination (R^2): 0.53\n"
          ],
          "name": "stdout"
        }
      ]
    },
    {
      "cell_type": "markdown",
      "metadata": {
        "id": "7Z72MSHpjO-K"
      },
      "source": [
        "## *String formatting*"
      ]
    },
    {
      "cell_type": "code",
      "metadata": {
        "colab": {
          "base_uri": "https://localhost:8080/"
        },
        "id": "HWLtsKANjSKH",
        "outputId": "8d4d3683-4960-4fcc-f4dc-1d989a190872"
      },
      "source": [
        "r2_score(y_test, y_pred)"
      ],
      "execution_count": 17,
      "outputs": [
        {
          "output_type": "execute_result",
          "data": {
            "text/plain": [
              "0.5307200517422452"
            ]
          },
          "metadata": {
            "tags": []
          },
          "execution_count": 17
        }
      ]
    },
    {
      "cell_type": "code",
      "metadata": {
        "colab": {
          "base_uri": "https://localhost:8080/"
        },
        "id": "tm7duqQVjfhr",
        "outputId": "ab94612c-a436-426e-a113-8a23a07bede0"
      },
      "source": [
        "r2_score(y_test, y_pred).dtype"
      ],
      "execution_count": 18,
      "outputs": [
        {
          "output_type": "execute_result",
          "data": {
            "text/plain": [
              "dtype('float64')"
            ]
          },
          "metadata": {
            "tags": []
          },
          "execution_count": 18
        }
      ]
    },
    {
      "cell_type": "markdown",
      "metadata": {
        "id": "Cb11aBZcl-M0"
      },
      "source": [
        "# **Scatter plots**"
      ]
    },
    {
      "cell_type": "markdown",
      "metadata": {
        "id": "o0fzQjO9mf7W"
      },
      "source": [
        "## *Import library*"
      ]
    },
    {
      "cell_type": "code",
      "metadata": {
        "id": "hvbeOvQ2miXZ"
      },
      "source": [
        "import seaborn as sns"
      ],
      "execution_count": 19,
      "outputs": []
    },
    {
      "cell_type": "markdown",
      "metadata": {
        "id": "QCv8vwalmmUz"
      },
      "source": [
        "## *Making scatter plot*"
      ]
    },
    {
      "cell_type": "markdown",
      "metadata": {
        "id": "ljP71V7lmrJ2"
      },
      "source": [
        "### The Data\n",
        "\n"
      ]
    },
    {
      "cell_type": "code",
      "metadata": {
        "colab": {
          "base_uri": "https://localhost:8080/"
        },
        "id": "kygkeb2kmluD",
        "outputId": "31882a5e-1b08-42fc-acb7-02def7806621"
      },
      "source": [
        "y_test"
      ],
      "execution_count": 20,
      "outputs": [
        {
          "output_type": "execute_result",
          "data": {
            "text/plain": [
              "array([310., 332., 121.,  84.,  31., 139., 172., 249., 221.,  66.,  59.,\n",
              "       124., 214., 150., 198., 275.,  69.,  60., 293.,  89.,  52.,  60.,\n",
              "       173.,  71., 210., 233., 212.,  49.,  91., 273., 180.,  59.,  74.,\n",
              "       243., 142., 134., 104., 230., 225., 235., 178., 233.,  72.,  90.,\n",
              "       128., 200.,  89.,  87., 253.,  68., 200., 140., 129.,  78., 127.,\n",
              "        51., 121.,  71.,  97.,  67.,  77., 167., 263., 103., 116., 321.,\n",
              "       171., 104.,  39., 279.,  39.,  53., 197., 189.,  96., 202., 168.,\n",
              "       265.,  93., 246., 102., 185.,  78.,  75., 252., 237., 292.,  84.,\n",
              "        71.])"
            ]
          },
          "metadata": {
            "tags": []
          },
          "execution_count": 20
        }
      ]
    },
    {
      "cell_type": "code",
      "metadata": {
        "colab": {
          "base_uri": "https://localhost:8080/"
        },
        "id": "J3D1-USwnyq1",
        "outputId": "41124b34-9c53-4650-9966-211b400fad90"
      },
      "source": [
        "import numpy as np\n",
        "np.array(y_test)"
      ],
      "execution_count": 21,
      "outputs": [
        {
          "output_type": "execute_result",
          "data": {
            "text/plain": [
              "array([310., 332., 121.,  84.,  31., 139., 172., 249., 221.,  66.,  59.,\n",
              "       124., 214., 150., 198., 275.,  69.,  60., 293.,  89.,  52.,  60.,\n",
              "       173.,  71., 210., 233., 212.,  49.,  91., 273., 180.,  59.,  74.,\n",
              "       243., 142., 134., 104., 230., 225., 235., 178., 233.,  72.,  90.,\n",
              "       128., 200.,  89.,  87., 253.,  68., 200., 140., 129.,  78., 127.,\n",
              "        51., 121.,  71.,  97.,  67.,  77., 167., 263., 103., 116., 321.,\n",
              "       171., 104.,  39., 279.,  39.,  53., 197., 189.,  96., 202., 168.,\n",
              "       265.,  93., 246., 102., 185.,  78.,  75., 252., 237., 292.,  84.,\n",
              "        71.])"
            ]
          },
          "metadata": {
            "tags": []
          },
          "execution_count": 21
        }
      ]
    },
    {
      "cell_type": "code",
      "metadata": {
        "colab": {
          "base_uri": "https://localhost:8080/"
        },
        "id": "Gs-wwpfroJwY",
        "outputId": "e6090e5c-7582-4529-8f0a-ee6343fd35d5"
      },
      "source": [
        "y_pred"
      ],
      "execution_count": 22,
      "outputs": [
        {
          "output_type": "execute_result",
          "data": {
            "text/plain": [
              "array([257.59402708, 221.03494317, 168.444757  , 188.73670739,\n",
              "       101.76286283, 178.13651225, 149.41484644, 212.20306995,\n",
              "       198.44363017, 120.04476792,  81.76330116, 167.33547006,\n",
              "       148.80492017, 206.09588873, 181.45677862, 211.40643085,\n",
              "       110.99432355, 123.03444304, 192.86290288,  77.66629709,\n",
              "        70.37296804,  94.05839935, 225.34696666, 115.37308694,\n",
              "       152.13121884, 199.23965947, 191.88455772, 132.59803479,\n",
              "       188.50458351, 250.59580497, 223.37256872, 127.10990049,\n",
              "        91.4265118 , 274.08900651, 103.38891807, 154.57519183,\n",
              "        73.9374408 , 144.69077985, 226.72000914, 165.97524179,\n",
              "       118.02061452, 265.57127219, 112.43393763, 144.58636244,\n",
              "       235.34166607, 147.79287162, 123.36867503,  99.21383458,\n",
              "       117.12039004, 114.46005681, 184.57683762, 128.74400808,\n",
              "       162.56955506, 198.59308038, 119.05779438, 126.6168758 ,\n",
              "       218.2002987 ,  83.40325635, 101.83362476, 130.84582221,\n",
              "        83.512159  , 188.43671949, 255.9755531 , 128.1886298 ,\n",
              "       149.48473929, 232.92562505, 170.35928434, 110.64145808,\n",
              "        72.30425473, 223.77684502,  75.36252871, 104.4731745 ,\n",
              "       188.1104883 , 189.1901851 ,  87.36770383, 184.06875462,\n",
              "       140.09538274, 200.95543029,  94.9413498 , 156.90871964,\n",
              "       104.00920638, 150.80228222,  52.12081062,  72.84801165,\n",
              "       143.93376756, 156.84835216, 188.9598712 , 125.98646899,\n",
              "        85.4973405 ])"
            ]
          },
          "metadata": {
            "tags": []
          },
          "execution_count": 22
        }
      ]
    },
    {
      "cell_type": "markdown",
      "metadata": {
        "id": "mrJ-SCARoP9O"
      },
      "source": [
        "### Making the scatter plot"
      ]
    },
    {
      "cell_type": "code",
      "metadata": {
        "colab": {
          "base_uri": "https://localhost:8080/",
          "height": 335
        },
        "id": "iE-MybXyoZN9",
        "outputId": "b7cb3b5a-b4a7-4b0a-df59-f30f3469eec0"
      },
      "source": [
        "sns.scatterplot(y_test, y_pred)"
      ],
      "execution_count": 23,
      "outputs": [
        {
          "output_type": "stream",
          "text": [
            "/usr/local/lib/python3.7/dist-packages/seaborn/_decorators.py:43: FutureWarning: Pass the following variables as keyword args: x, y. From version 0.12, the only valid positional argument will be `data`, and passing other arguments without an explicit keyword will result in an error or misinterpretation.\n",
            "  FutureWarning\n"
          ],
          "name": "stderr"
        },
        {
          "output_type": "execute_result",
          "data": {
            "text/plain": [
              "<matplotlib.axes._subplots.AxesSubplot at 0x7fbbf877b350>"
            ]
          },
          "metadata": {
            "tags": []
          },
          "execution_count": 23
        },
        {
          "output_type": "display_data",
          "data": {
            "image/png": "[encoded data removed]",
            "text/plain": [
              "<Figure size 432x288 with 1 Axes>"
            ]
          },
          "metadata": {
            "tags": [],
            "needs_background": "light"
          }
        }
      ]
    },
    {
      "cell_type": "code",
      "metadata": {
        "colab": {
          "base_uri": "https://localhost:8080/",
          "height": 335
        },
        "id": "dv0NIkWTo7ZN",
        "outputId": "51a29b2a-eb69-4589-b817-f749fe271a25"
      },
      "source": [
        "sns.scatterplot(y_test, y_pred, marker=\"+\")"
      ],
      "execution_count": 24,
      "outputs": [
        {
          "output_type": "stream",
          "text": [
            "/usr/local/lib/python3.7/dist-packages/seaborn/_decorators.py:43: FutureWarning: Pass the following variables as keyword args: x, y. From version 0.12, the only valid positional argument will be `data`, and passing other arguments without an explicit keyword will result in an error or misinterpretation.\n",
            "  FutureWarning\n"
          ],
          "name": "stderr"
        },
        {
          "output_type": "execute_result",
          "data": {
            "text/plain": [
              "<matplotlib.axes._subplots.AxesSubplot at 0x7fbbf7c2b490>"
            ]
          },
          "metadata": {
            "tags": []
          },
          "execution_count": 24
        },
        {
          "output_type": "display_data",
          "data": {
            "image/png": "[encoded data removed]",
            "text/plain": [
              "<Figure size 432x288 with 1 Axes>"
            ]
          },
          "metadata": {
            "tags": [],
            "needs_background": "light"
          }
        }
      ]
    },
    {
      "cell_type": "code",
      "metadata": {
        "colab": {
          "base_uri": "https://localhost:8080/",
          "height": 335
        },
        "id": "7n0KCTA2pRmO",
        "outputId": "d7e5e11d-ecb8-4535-c54d-9ea75881c6d0"
      },
      "source": [
        "sns.scatterplot(y_test, y_pred, alpha=0.4)"
      ],
      "execution_count": 25,
      "outputs": [
        {
          "output_type": "stream",
          "text": [
            "/usr/local/lib/python3.7/dist-packages/seaborn/_decorators.py:43: FutureWarning: Pass the following variables as keyword args: x, y. From version 0.12, the only valid positional argument will be `data`, and passing other arguments without an explicit keyword will result in an error or misinterpretation.\n",
            "  FutureWarning\n"
          ],
          "name": "stderr"
        },
        {
          "output_type": "execute_result",
          "data": {
            "text/plain": [
              "<matplotlib.axes._subplots.AxesSubplot at 0x7fbbf7759e90>"
            ]
          },
          "metadata": {
            "tags": []
          },
          "execution_count": 25
        },
        {
          "output_type": "display_data",
          "data": {
            "image/png": "[encoded data removed]",
            "text/plain": [
              "<Figure size 432x288 with 1 Axes>"
            ]
          },
          "metadata": {
            "tags": [],
            "needs_background": "light"
          }
        }
      ]
    }
  ]
}